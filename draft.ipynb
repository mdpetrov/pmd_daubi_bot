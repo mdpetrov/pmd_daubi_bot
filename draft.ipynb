{
 "cells": [
  {
   "cell_type": "code",
   "execution_count": 1,
   "id": "57a2b463-f6b5-4e53-921c-b3f29b2fc2f4",
   "metadata": {
    "tags": []
   },
   "outputs": [],
   "source": [
    "import telebot\n",
    "from telebot import types \n",
    "from telebot.util import quick_markup\n",
    "import random\n",
    "import datetime\n",
    "import time\n",
    "import json\n",
    "import os\n",
    "import numpy as np\n",
    "import pandas as pd"
   ]
  },
  {
   "cell_type": "code",
   "execution_count": 2,
   "id": "16c18bbf-35ba-4b0b-ad0c-7ff4fe7bb7fc",
   "metadata": {
    "tags": []
   },
   "outputs": [
    {
     "name": "stdout",
     "output_type": "stream",
     "text": [
      "c:\\My Documents\\University\\Python\\pmd_daubi_bot\n"
     ]
    }
   ],
   "source": [
    "# os.chdir(os.path.dirname(os.path.abspath(__file__)))\n",
    "\n",
    "print(os.getcwd())\n",
    "\n"
   ]
  },
  {
   "cell_type": "code",
   "execution_count": null,
   "id": "52094185-4e2f-4875-b23c-9bf2f8e99c60",
   "metadata": {
    "tags": []
   },
   "outputs": [],
   "source": [
    "with open('.token', 'rt', encoding='utf8') as fp:\n",
    "\ttoken = fp.read()\n",
    "\n",
    "bot = telebot.TeleBot(token, threaded=False)\n",
    "\n",
    "params = {}\n",
    "params['last_time_message_sent'] = 0\n",
    "random.seed(datetime.datetime.now().timestamp())\n",
    "\n",
    "def write_log(text):\n",
    "    with open('log.log', mode='a') as log_con:\n",
    "        log_con.write(f'{datetime.datetime.now()}: {text}\\n')\n",
    "\n",
    "def send_message(chat_id, text, params, sleep=0.5, **kwargs):\n",
    "\t''' Send a message with certain delay '''\n",
    "\tinterval = time.time() - params['last_time_message_sent']\n",
    "\tif (interval < sleep):\n",
    "\t\ttime.sleep(sleep - interval)\n",
    "\tmessage = bot.send_message(chat_id, text, **kwargs)\n",
    "\tparams['last_time_message_sent'] = time.time()\n",
    "\treturn message\n",
    "\n",
    "def random_phrase(rand):\n",
    "    with open('text_phrases.csv', mode='rt', encoding='utf-8') as con:\n",
    "        write_log(f': Load phrases')\n",
    "        phrases = pd.read_csv(con, sep=';')\n",
    "        phrase = phrases['phrase'].sample(n=1, weights=phrases['weight']).tolist()[0]\n",
    "        write_log(f'{phrase}')\n",
    "        return phrase\n",
    "\n",
    "@bot.message_handler(chat_types=['private'], func=lambda m: (time.time() - m.date <= 5))\n",
    "def start(message):\n",
    "    send_message(message.chat.id, text='Я ДАУБЛЮ ТОЛЬКО В ГРУППАХ', params=params, sleep=10)\n",
    "\n",
    "@bot.message_handler(chat_types=['group', 'supergroup'], content_types=['text'], func=lambda m: (time.time() - m.date <= 5))\n",
    "def start(message):\n",
    "    rand = random.random()\n",
    "    write_log(f': Random = {rand}')\n",
    "    if rand <= 0.05:\n",
    "        phrase = random_phrase(rand)\n",
    "        send_message(message.chat.id, text=phrase, params=params, sleep=0.5)\n",
    "        \n",
    "if __name__ == '__main__':\n",
    "\tbot.polling(none_stop=True, interval=1) #обязательная для работы бота часть"
   ]
  },
  {
   "cell_type": "code",
   "execution_count": 6,
   "id": "148fc027-a46a-4149-83d9-cdcad23c0e56",
   "metadata": {
    "tags": []
   },
   "outputs": [
    {
     "data": {
      "text/plain": [
       "19    Ауф\n",
       "Name: phrase, dtype: object"
      ]
     },
     "execution_count": 6,
     "metadata": {},
     "output_type": "execute_result"
    }
   ],
   "source": [
    "with open('text_phrases.csv', mode='rt', encoding='utf-8') as con:\n",
    "    phrases = pd.read_csv(con, sep=';')\n",
    "    phrase = phrases['phrase'].sample(n=1, weights=phrases['weight'])\n",
    "phrase"
   ]
  },
  {
   "cell_type": "code",
   "execution_count": null,
   "id": "8681359e-ae82-4b1a-bcac-a4945a53f162",
   "metadata": {
    "tags": []
   },
   "outputs": [],
   "source": [
    "phrases"
   ]
  },
  {
   "cell_type": "code",
   "execution_count": null,
   "id": "d8d04697-e2f7-4c33-9976-5b05b41d5835",
   "metadata": {
    "tags": []
   },
   "outputs": [],
   "source": [
    "phrases['phrase'].sample(n=1, weights=phrases['weight']).tolist()[0]"
   ]
  }
 ],
 "metadata": {
  "kernelspec": {
   "display_name": "Python 3 (ipykernel)",
   "language": "python",
   "name": "python3"
  },
  "language_info": {
   "codemirror_mode": {
    "name": "ipython",
    "version": 3
   },
   "file_extension": ".py",
   "mimetype": "text/x-python",
   "name": "python",
   "nbconvert_exporter": "python",
   "pygments_lexer": "ipython3",
   "version": "3.8.18"
  }
 },
 "nbformat": 4,
 "nbformat_minor": 5
}
